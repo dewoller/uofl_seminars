{
 "cells": [
  {
   "cell_type": "markdown",
   "id": "d16d4078-2537-4184-9c48-53c82d9f8ac0",
   "metadata": {},
   "source": [
    "# Exercise\n",
    "\n",
    "There are 3 data files in data/linear_models_problematic_samples/, namely dataset_with_errors_[1-3].csv.\n",
    "\n",
    "Their Y variable cannot be successfully modelled using a linear model because they violate one of the assumptions.\n",
    "\n",
    "Your task is to find out *what kind of error* they each contain. \n",
    "\n",
    "Solutions are in the data/linear_models_problematic_samples/solution directory"
   ]
  }
 ],
 "metadata": {
  "kernelspec": {
   "display_name": "R",
   "language": "R",
   "name": "ir"
  },
  "language_info": {
   "codemirror_mode": "r",
   "file_extension": ".r",
   "mimetype": "text/x-r-source",
   "name": "R",
   "pygments_lexer": "r",
   "version": "4.3.1"
  }
 },
 "nbformat": 4,
 "nbformat_minor": 5
}
